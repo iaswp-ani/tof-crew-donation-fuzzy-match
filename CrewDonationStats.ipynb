{
  "cells": [
    {
      "cell_type": "markdown",
      "metadata": {
        "id": "-iFBoPI2ya2_"
      },
      "source": [
        "# Fuzzy String Matching and Crew Donation Stats program\n",
        "\n",
        "This is a Python notebook (basically a collection of cells containing various code blocks), intended for fuzzy string matching of names in Fantasia Staff Crew sheet and OCR Sheet from in-game crew page screenshot.\n",
        "\n",
        "Author: Ani\n",
        "\n",
        "Set the parameters below in Step 1, and then you can go to Runtime -> Run all, and follow the other steps of uploading the two files as instructed below. You might need to wait a few seconds before the Choose Files prompt becomes available."
      ],
      "id": "-iFBoPI2ya2_"
    },
    {
      "cell_type": "markdown",
      "metadata": {
        "id": "lEzmuTw6BjKS"
      },
      "source": [
        "## Step 1: Setting the Parameters\n",
        "\n",
        "Except Fantasia, default parameter values here can mostly work fine, but here they can be customized as needed.\n",
        "\n",
        "- `Username Column Name`: This is the column name of the username field in the Staff Spreadsheet. This is by default `ToF Username` for Phantasia and Sacred Sakura, but `ToF Username - {number of members}`. For Fantasia, this column name needs to be set here.\n",
        "\n",
        "- `Output File Name`: This is the filename of the output csv file, by default set to `CrewDonationStats.csv`. Can leave this as is, or change to anything else that you wish. Just be sure to have the `.csv` extension at the end.\n",
        "\n",
        "- `Score Cutoff`: The Fuzzy String matching program code here computes a similarity score between 0 and 100. Two exactly same names will have a score of 100. Here we set a score cutoff for finding matches between names in the Crew sheet and the Staff sheet. The default is 70, but this can be increased or decreased if you want to experiment.\n",
        "\n",
        "- `Mode`: There are two modes. `staff-to-crew` mode matches staff spreadsheet names to crew screenshot names. This is the default, and should be used to fill up weekly donation info. Blank entries here will mean that the name in spreadsheet wasn't found in crew screenshot. This could be due to very short name, incorrect OCR reading from crew screenshot, or someone in crew changing their username which wasn't tracked in staff spreadsheet. For the case that sometimes players change their username, there exists the `crew-to-staff` mode, which matches crew screenshot names to staff spreadsheet names. Blank spaces should help to find names in spreadsheet which don't exist in crew screenshot. (Of course, it could be that short names or incorrect OCR reading messed up, but this simplifies finding out who changed their name).\n",
        "\n",
        "Once these are set, you can now go to **Runtime -> Run all**. Make sure to upload the two files below as instructed, one by one.\n",
        "\n",
        "**You should still check the final output in the output file manually once. Short names, and blank names can be easily missed, so fill in any missing details yourself by cross-checking with the Crew page screenshot if applicable.**"
      ],
      "id": "lEzmuTw6BjKS"
    },
    {
      "cell_type": "code",
      "execution_count": null,
      "metadata": {
        "id": "cZsy8teduY6p"
      },
      "outputs": [],
      "source": [
        "# @title Relevant Parameters {display-mode: \"form\"}\n",
        "\n",
        "username_column_name = \"ToF Username\"  # @param {type: \"string\"}\n",
        "output_filename = \"CrewDonationStats.csv\"  # @param {type: \"string\"}\n",
        "score_cutoff = 70  # @param {type: \"slider\", min: 0, max: 100}\n",
        "mode = \"staff-to-crew\" # @param [\"staff-to-crew\", \"crew-to-staff\"]\n"
      ],
      "id": "cZsy8teduY6p"
    },
    {
      "cell_type": "markdown",
      "metadata": {
        "id": "qjO_LmkIGcCr"
      },
      "source": [
        "\n",
        "**Go to Runtime -> Run All and follow the instructions you see below in the notebook.**\n",
        "\n",
        "## Step 2: Upload the CSV file from Staff Spreadsheet."
      ],
      "id": "qjO_LmkIGcCr"
    },
    {
      "cell_type": "code",
      "execution_count": null,
      "metadata": {
        "id": "6NG5hU_IuFzz"
      },
      "outputs": [],
      "source": [
        "# @title Upload the CSV file from Staff Spreadsheet. See instructions below. {display-mode: \"form\"}\n",
        "\n",
        "from google.colab import files\n",
        "\n",
        "print(f\"1. Open the Fantasia Staff Spreadsheet.\")\n",
        "print(f\"2. Go to your crew sheet (Fantasia/Phantasia/Sacred Sakura).\")\n",
        "print(f\"3. Right click on File Menu -> Download -> Comma-separated values (.csv)\")\n",
        "print(f\"4. Click on the Choose Files button below, select the above downloaded file from your computer, and upload it here.\")\n",
        "\n",
        "staffsheet = files.upload()\n",
        "\n",
        "for fn in staffsheet.keys():\n",
        "    print(f\"Uploaded file '{fn}'\")\n",
        "\n",
        "staffsheetname = list(staffsheet.keys())[0]"
      ],
      "id": "6NG5hU_IuFzz"
    },
    {
      "cell_type": "code",
      "execution_count": null,
      "metadata": {
        "id": "4WaA6ubrxyO9"
      },
      "outputs": [],
      "source": [
        "# @title Step 3. Upload the CSV file from TableReader website (Long Image from Crew Screen in-game converted to Table and exported as .csv) {display-mode: \"form\"}\n",
        "\n",
        "print(f\"Upload the CSV file from TableReader website. Please only upload one file here.\")\n",
        "crewsheet = files.upload()\n",
        "\n",
        "for fn in crewsheet.keys():\n",
        "    print(f\"Uploaded file '{fn}'\")\n",
        "\n",
        "crewsheetname = list(crewsheet.keys())[0]"
      ],
      "id": "4WaA6ubrxyO9"
    },
    {
      "cell_type": "code",
      "execution_count": null,
      "metadata": {
        "id": "cZQD6ntn0e0y"
      },
      "outputs": [],
      "source": [
        "# @title Working code {display-mode: \"form\"}\n",
        "\n",
        "!pip install thefuzz --quiet\n",
        "\n",
        "import os\n",
        "import pandas as pd\n",
        "from thefuzz import fuzz, process\n",
        "\n",
        "# Load the CSV File\n",
        "crewdf = pd.read_csv(crewsheetname,\n",
        "                     header=None,\n",
        "                     names=['SrNo.', 'Name', 'Level', 'Rank', 'WeeklyDonation', 'HistoricalDonation', 'LastActive']\n",
        "                    )\n",
        "\n",
        "# Remove the Sr No. column which doesn't have any use\n",
        "crewdf.drop(columns=['SrNo.'], inplace=True)\n",
        "\n",
        "# Fill missing weekly and historical donation values with 0\n",
        "crewdf['WeeklyDonation'].fillna(0, inplace=True)\n",
        "crewdf['HistoricalDonation'].fillna(0, inplace=True)\n",
        "\n",
        "# Replace \"O\" with 0\n",
        "crewdf['WeeklyDonation'].replace(regex=r\"\\s*O\\s*\", value=\"0\", inplace=True)\n",
        "\n",
        "# Remove whitespaces from the name\n",
        "crewdf['Name'] = crewdf['Name'].apply(lambda x: str(x).strip())\n",
        "\n",
        "# Load Staff Sheet\n",
        "sheetdf = pd.read_csv(staffsheetname, skiprows=1)\n",
        "\n",
        "sheetnames = list(sheetdf[username_column_name].dropna())\n",
        "\n",
        "crewdonationstats = []\n",
        "\n",
        "if mode == 'crew-to-staff':\n",
        "    for name in crewdf['Name']:\n",
        "        result = process.extractOne(name, sheetnames, score_cutoff=score_cutoff, scorer=fuzz.ratio)\n",
        "\n",
        "        if result:\n",
        "            sheetname, score = result\n",
        "        else:\n",
        "            sheetname = \"\"\n",
        "\n",
        "        statsdict = {\n",
        "                'CrewOCRName': name,\n",
        "                'SheetName': sheetname\n",
        "            }\n",
        "\n",
        "        crewdonationstats.append(statsdict)\n",
        "\n",
        "    crewdonationstatsdf = pd.DataFrame(crewdonationstats)\n",
        "\n",
        "    crewdonationstatsdf.to_csv(output_filename, index=False)\n",
        "\n",
        "elif mode == \"staff-to-crew\":\n",
        "    for name in sheetnames:\n",
        "        result = process.extractOne(name, crewdf['Name'], score_cutoff=score_cutoff, scorer=fuzz.ratio)\n",
        "\n",
        "        if result:\n",
        "            crewocrname, score, key = result\n",
        "            weeklydonation = crewdf.iloc[key]['WeeklyDonation']\n",
        "            historicaldonation = crewdf.iloc[key]['HistoricalDonation']\n",
        "        else:\n",
        "            crewocrname = \"\"\n",
        "            weeklydonation = \"\"\n",
        "            historicaldonation = \"\"\n",
        "\n",
        "        statsdict = {\n",
        "                'SheetName': name,\n",
        "                'CrewOCRName': crewocrname,\n",
        "                'WeeklyDonation': weeklydonation,\n",
        "                'HistoricalDonation': historicaldonation\n",
        "            }\n",
        "\n",
        "        crewdonationstats.append(statsdict)\n",
        "\n",
        "    crewdonationstatsdf = pd.DataFrame(crewdonationstats)\n",
        "\n",
        "    crewdonationstatsdf.to_csv(output_filename, index=False)\n",
        "\n",
        "else:\n",
        "    raise Exception(\"You probably messed up the mode setting somehow. Close this notebook, and launch a fresh instance. Contact Ani if issue persists.\")\n",
        "\n",
        "# crewdonationstatsdf"
      ],
      "id": "cZQD6ntn0e0y"
    },
    {
      "cell_type": "code",
      "execution_count": null,
      "metadata": {
        "id": "286da40a"
      },
      "outputs": [],
      "source": [
        "# @title Download file {display-mode: \"form\"}\n",
        "\n",
        "files.view(output_filename)\n",
        "files.download(output_filename)"
      ],
      "id": "286da40a"
    },
    {
      "cell_type": "code",
      "source": [
        "assert False, \"This cell will error out. Don't worry. It's so that the cell below can be run manually, if need.\""
      ],
      "metadata": {
        "id": "Vua_pe1NkySU"
      },
      "id": "Vua_pe1NkySU",
      "execution_count": null,
      "outputs": []
    },
    {
      "cell_type": "code",
      "source": [
        "# @title Click on this cell, and run it (The play icon on the left, or `CTRL+ENTER` as a keyboard shortcut). This will disconnect the runtime. {display-mode: \"form\"}\n",
        "# https://twitter.com/GoogleColab/status/1569389018311426051\n",
        "\n",
        "\n",
        "from google.colab import runtime\n",
        "\n",
        "runtime.unassign()"
      ],
      "metadata": {
        "id": "P5FvSv4Gf4eg"
      },
      "id": "P5FvSv4Gf4eg",
      "execution_count": null,
      "outputs": []
    },
    {
      "cell_type": "markdown",
      "metadata": {
        "id": "E3vtWMaQFDyE"
      },
      "source": [
        "## Step 4: Putting the data back in the sheet\n",
        "\n",
        "A CSV file should be opened on the right side, and the same also downloaded on your computer. The view on the right shows the output from the program.\n",
        "\n",
        "You can open the download file on your computer, and copy paste the relevant columns into your own staff sheet as necessary."
      ],
      "id": "E3vtWMaQFDyE"
    }
  ],
  "metadata": {
    "colab": {
      "provenance": []
    },
    "kernelspec": {
      "display_name": "Python 3 (ipykernel)",
      "language": "python",
      "name": "python3"
    },
    "language_info": {
      "codemirror_mode": {
        "name": "ipython",
        "version": 3
      },
      "file_extension": ".py",
      "mimetype": "text/x-python",
      "name": "python",
      "nbconvert_exporter": "python",
      "pygments_lexer": "ipython3",
      "version": "3.9.13"
    }
  },
  "nbformat": 4,
  "nbformat_minor": 5
}